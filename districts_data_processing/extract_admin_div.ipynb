{
 "cells": [
  {
   "cell_type": "code",
   "execution_count": null,
   "metadata": {},
   "outputs": [],
   "source": [
    "%pip install requests"
   ]
  },
  {
   "cell_type": "code",
   "execution_count": null,
   "metadata": {},
   "outputs": [],
   "source": [
    "%pip install pandas"
   ]
  },
  {
   "cell_type": "code",
   "execution_count": null,
   "metadata": {},
   "outputs": [],
   "source": [
    "%pip install tqdm"
   ]
  },
  {
   "cell_type": "code",
   "execution_count": null,
   "metadata": {},
   "outputs": [],
   "source": [
    "import pandas as pd\n",
    "import numpy as np\n",
    "import requests\n",
    "from tqdm.auto import tqdm"
   ]
  },
  {
   "cell_type": "code",
   "execution_count": null,
   "metadata": {},
   "outputs": [],
   "source": [
    "df = pd.read_csv(\"merged.csv\")\n",
    "df"
   ]
  },
  {
   "cell_type": "code",
   "execution_count": null,
   "metadata": {},
   "outputs": [],
   "source": [
    "df = df[df[\"ULICA\"].notna()]"
   ]
  },
  {
   "cell_type": "code",
   "execution_count": null,
   "metadata": {},
   "outputs": [],
   "source": [
    "# get the first number from NUMERY\n",
    "df['street_number'] = df['NUMERY'].str.split('[-,]').str[0]"
   ]
  },
  {
   "cell_type": "code",
   "execution_count": null,
   "metadata": {},
   "outputs": [],
   "source": [
    "URL = \"http://localhost:8080\""
   ]
  },
  {
   "cell_type": "code",
   "execution_count": null,
   "metadata": {},
   "outputs": [],
   "source": [
    "def get_region(city, street, number) -> tuple:\n",
    "    if pd.isna(number):\n",
    "        number = \"1\"\n",
    "    res = requests.get(URL + \"/search\", params={\"q\": \" \".join((city, street, number))})\n",
    "    props = res.json()\n",
    "    if not len(props):\n",
    "        return (None, None, None)\n",
    "\n",
    "    place = props[0]\n",
    "    \n",
    "    res = requests.get(URL + \"/details\", params={\n",
    "        \"place_id\": place[\"place_id\"],\n",
    "        \"addressdetails\": 1\n",
    "    })\n",
    "\n",
    "    address_details = res.json()[\"address\"]\n",
    "\n",
    "    boundaries = []\n",
    "\n",
    "    for el in address_details:\n",
    "        adm_lvl = el.get(\"admin_level\")\n",
    "        if adm_lvl is None or el[\"class\"] != \"boundary\" or adm_lvl < 9:\n",
    "            continue\n",
    "\n",
    "        boundaries.append(el)\n",
    "\n",
    "    boundaries_lowest_lvl_nearest = [*sorted(boundaries, key=lambda x: x[\"distance\"])]\n",
    "    if not len(boundaries_lowest_lvl_nearest):\n",
    "        return (None, place[\"lon\"], place[\"lat\"])\n",
    "\n",
    "    return (boundaries_lowest_lvl_nearest[0][\"localname\"], place[\"lon\"], place[\"lat\"])\n",
    "    \n",
    "\n",
    "def get_region_series(s):\n",
    "    region, lon, lat = get_region(s[\"city\"], s[\"ULICA\"], s[\"street_number\"])\n",
    "    \n",
    "    s[\"region\"] = region\n",
    "    s[\"lon\"] = lon\n",
    "    s[\"lat\"] = lat\n",
    "    return s"
   ]
  },
  {
   "cell_type": "code",
   "execution_count": null,
   "metadata": {},
   "outputs": [],
   "source": [
    "get_region(\"Lodz\", \"Wolczanska\", \"143\")"
   ]
  },
  {
   "cell_type": "code",
   "execution_count": null,
   "metadata": {},
   "outputs": [],
   "source": [
    "tqdm.pandas(desc = \"working working\")"
   ]
  },
  {
   "cell_type": "code",
   "execution_count": null,
   "metadata": {},
   "outputs": [],
   "source": [
    "df = df.progress_apply(lambda row: get_region_series(row), axis=1)"
   ]
  },
  {
   "cell_type": "code",
   "execution_count": null,
   "metadata": {},
   "outputs": [],
   "source": [
    "df"
   ]
  },
  {
   "cell_type": "code",
   "execution_count": null,
   "metadata": {},
   "outputs": [],
   "source": [
    "df.to_csv(\"pna_regions.csv\", index=False)"
   ]
  },
  {
   "cell_type": "code",
   "execution_count": null,
   "metadata": {},
   "outputs": [],
   "source": []
  }
 ],
 "metadata": {
  "kernelspec": {
   "display_name": ".venv",
   "language": "python",
   "name": "python3"
  },
  "language_info": {
   "codemirror_mode": {
    "name": "ipython",
    "version": 3
   },
   "file_extension": ".py",
   "mimetype": "text/x-python",
   "name": "python",
   "nbconvert_exporter": "python",
   "pygments_lexer": "ipython3",
   "version": "3.10.12"
  }
 },
 "nbformat": 4,
 "nbformat_minor": 2
}
