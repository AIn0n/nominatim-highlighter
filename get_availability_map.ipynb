{
 "cells": [
  {
   "cell_type": "code",
   "execution_count": null,
   "id": "88925cf9",
   "metadata": {},
   "outputs": [],
   "source": [
    "import requests\n",
    "import plotly.graph_objects as go"
   ]
  },
  {
   "cell_type": "code",
   "execution_count": null,
   "id": "0df19712",
   "metadata": {},
   "outputs": [],
   "source": [
    "URL = \"http://localhost:8080\"\n",
    "PL_LON, PL_LAT = 19.145136, 51.919438"
   ]
  },
  {
   "cell_type": "code",
   "execution_count": null,
   "id": "650301de",
   "metadata": {},
   "outputs": [],
   "source": [
    "res = requests.get(\n",
    "    f\"{URL}/search\",\n",
    "    params={\"q\": \"Lodz\", \"polygon_geojson\": True, \"format\": \"geocodejson\"},\n",
    ")"
   ]
  },
  {
   "cell_type": "code",
   "execution_count": null,
   "id": "1b6b9ea1",
   "metadata": {},
   "outputs": [],
   "source": [
    "first = res.json()[\"features\"][0]\n",
    "first"
   ]
  },
  {
   "cell_type": "code",
   "execution_count": null,
   "id": "28da5a93",
   "metadata": {},
   "outputs": [],
   "source": [
    "fig = go.Figure(\n",
    "    go.Scattermap(\n",
    "        mode=\"markers\",\n",
    "    )\n",
    ")\n",
    "\n",
    "fig.update_layout(\n",
    "    map={\n",
    "        \"style\": \"light\",\n",
    "        \"center\": {\"lon\": PL_LON, \"lat\": PL_LAT},\n",
    "        \"zoom\": 5,\n",
    "        \"layers\": [\n",
    "            {\"source\": first, \"type\": \"fill\", \"below\": \"traces\", \"color\": \"royalblue\"}\n",
    "        ],\n",
    "    },\n",
    "    margin={\"l\": 0, \"r\": 0, \"b\": 0, \"t\": 0},\n",
    ")"
   ]
  },
  {
   "cell_type": "code",
   "execution_count": null,
   "id": "522b9e60",
   "metadata": {},
   "outputs": [],
   "source": []
  }
 ],
 "metadata": {
  "kernelspec": {
   "display_name": "nominatim-highlighter",
   "language": "python",
   "name": "python3"
  },
  "language_info": {
   "codemirror_mode": {
    "name": "ipython",
    "version": 3
   },
   "file_extension": ".py",
   "mimetype": "text/x-python",
   "name": "python",
   "nbconvert_exporter": "python",
   "pygments_lexer": "ipython3",
   "version": "3.13.7"
  }
 },
 "nbformat": 4,
 "nbformat_minor": 5
}
