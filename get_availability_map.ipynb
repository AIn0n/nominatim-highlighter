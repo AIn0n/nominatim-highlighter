{
 "cells": [
  {
   "cell_type": "code",
   "execution_count": null,
   "id": "88925cf9",
   "metadata": {},
   "outputs": [],
   "source": [
    "import requests\n",
    "import plotly.graph_objects as go\n",
    "import pandas as pd"
   ]
  },
  {
   "cell_type": "code",
   "execution_count": null,
   "id": "0df19712",
   "metadata": {},
   "outputs": [],
   "source": [
    "# constants\n",
    "URL = \"http://localhost:8080\"\n",
    "PL_LON, PL_LAT = 19.145136, 51.919438\n",
    "DATA_DIR = \"data.csv\""
   ]
  },
  {
   "cell_type": "code",
   "execution_count": null,
   "id": "b92d7521",
   "metadata": {},
   "outputs": [],
   "source": [
    "# expected input: table with two (string) columns: region, voivodeship\n",
    "df = pd.read_csv(DATA_DIR).reset_index(drop=True)\n",
    "df"
   ]
  },
  {
   "cell_type": "code",
   "execution_count": null,
   "id": "9352a2a2",
   "metadata": {},
   "outputs": [],
   "source": [
    "search_txts = [row[1][\"region\"] + \" \" + row[1][\"voivodeship\"] for row in df.iterrows()]\n",
    "search_txts"
   ]
  },
  {
   "cell_type": "code",
   "execution_count": null,
   "id": "4b69ea5d",
   "metadata": {},
   "outputs": [],
   "source": [
    "layers = []\n",
    "for el in search_txts:\n",
    "    res = requests.get(\n",
    "        f\"{URL}/search\",\n",
    "        params={\"q\": el, \"polygon_geojson\": True, \"format\": \"geocodejson\"},\n",
    "    )\n",
    "    response_json = res.json()\n",
    "    if not response_json[\"features\"]:\n",
    "        print(f\"cannot find anything for {el}\")\n",
    "        continue\n",
    "    first = response_json[\"features\"][0]\n",
    "    layers.append(\n",
    "        {\"source\": first, \"type\": \"fill\", \"below\": \"traces\", \"color\": \"#00b17d\"}\n",
    "    )\n",
    "layers"
   ]
  },
  {
   "cell_type": "code",
   "execution_count": null,
   "id": "27de6704",
   "metadata": {},
   "outputs": [],
   "source": [
    "layout = go.Layout(\n",
    "    width=1280,\n",
    "    height=1280,\n",
    ")"
   ]
  },
  {
   "cell_type": "code",
   "execution_count": null,
   "id": "28da5a93",
   "metadata": {},
   "outputs": [],
   "source": [
    "fig = go.Figure(\n",
    "    go.Scattermap(\n",
    "        mode=\"markers\",\n",
    "    ),\n",
    "    layout=layout,\n",
    ")\n",
    "\n",
    "fig.update_layout(\n",
    "    map={\n",
    "        \"style\": \"light\",\n",
    "        \"center\": {\"lon\": PL_LON, \"lat\": PL_LAT},\n",
    "        \"zoom\": 6,\n",
    "        \"layers\": layers,\n",
    "    },\n",
    "    margin={\"l\": 0, \"r\": 0, \"b\": 0, \"t\": 0},\n",
    ")"
   ]
  }
 ],
 "metadata": {
  "kernelspec": {
   "display_name": "nominatim-highlighter",
   "language": "python",
   "name": "python3"
  },
  "language_info": {
   "codemirror_mode": {
    "name": "ipython",
    "version": 3
   },
   "file_extension": ".py",
   "mimetype": "text/x-python",
   "name": "python",
   "nbconvert_exporter": "python",
   "pygments_lexer": "ipython3",
   "version": "3.13.7"
  }
 },
 "nbformat": 4,
 "nbformat_minor": 5
}
